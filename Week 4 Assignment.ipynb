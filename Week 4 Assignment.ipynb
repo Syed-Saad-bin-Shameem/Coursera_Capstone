{
 "cells": [
  {
   "cell_type": "markdown",
   "metadata": {},
   "source": [
    "# Introduction"
   ]
  },
  {
   "cell_type": "markdown",
   "metadata": {},
   "source": [
    "We have compared the neighbourhoods of New York and Toronto separately. However, I would like to compare the neighbourhoods of the two cities. I would like to analyze the most common venues of the two places and determine how similar or dissimilar they are. I will be checking the venues of the neighbourhoods of both the areas, and making observations depending on them.\n",
    "\n",
    "This information can be useful to anyone wanting to know more about these cities whether it be for travelling there on vacations, as a tourits, or moving to that place. They will be able to get a better idea of the different neighbourhoods of these cities and the different attractions they offer. This will help them make a more informed decision about their actions.\n",
    "\n",
    "This analyis will also be helpful to businessmen who are looking to get into the local businesses as they will have information regarding their competitors or lack thereof around the area they are targetting, and thus will gain a better understanding of where to take their business. "
   ]
  },
  {
   "cell_type": "markdown",
   "metadata": {},
   "source": [
    "# Data"
   ]
  },
  {
   "cell_type": "markdown",
   "metadata": {},
   "source": [
    "Mostly, I will be using the same tools, techniques and datasets that we have covered so far in the course. The most important of which being the foursquare API which I will be using to collect data. I will also be using folium for drawing maps and geopy's Nomonatim implementation for geolocation services. Most of the data will be collected through the /explore endpoint of the foursqaure API. I will also be using Wikipedia to scrape data for Toronto neighbourhoods. The New York data is available at geo.nyu.edu as a JSON file. Both the New York and Toronto data has lists of neighborhoods which are of main concern to use. We will use these to make a call to Nominatim to get there Latitude and Longitudes. We will then use these values as inputs to the Foursquare API to get the data regarding venues etc.\n",
    "\n",
    "The data will be available mostly as JSON objects which will be turned into pandas dataframes on which analysis will be performed. For scraping data, I will be using the Beautiful Soup library."
   ]
  }
 ],
 "metadata": {
  "kernelspec": {
   "display_name": "Python 3",
   "language": "python",
   "name": "python3"
  },
  "language_info": {
   "codemirror_mode": {
    "name": "ipython",
    "version": 3
   },
   "file_extension": ".py",
   "mimetype": "text/x-python",
   "name": "python",
   "nbconvert_exporter": "python",
   "pygments_lexer": "ipython3",
   "version": "3.7.6"
  }
 },
 "nbformat": 4,
 "nbformat_minor": 4
}
